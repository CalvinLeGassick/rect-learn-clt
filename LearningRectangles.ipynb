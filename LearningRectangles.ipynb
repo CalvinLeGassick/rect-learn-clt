{
 "cells": [
  {
   "cell_type": "markdown",
   "metadata": {},
   "source": [
    "***Learning Rectangles***\n",
    "\n",
    "In this post, we explore a basic computational learning problem; learning rectangles from data. Exploring this problem and the proposed solution provides a first look into the tradeoffs between data, accuracy and confidence.\n",
    "\n",
    "This post also pairs a theorerical and exprimental exploration of the problem. By pairing theoretical work with visualizations and the instructions (code) for generating data and calculating experimental quantities, we hope to gain a deeper understanding of the tradeoffs in the rectangle learning problem and of the flavor of algorithmic proofs with probabilistic error gaurantees."
   ]
  },
  {
   "cell_type": "markdown",
   "metadata": {},
   "source": [
    "***Python Setup***\n",
    "\n",
    "We begin by importing some modules and defining some helper functions."
   ]
  },
  {
   "cell_type": "code",
   "execution_count": 176,
   "metadata": {
    "collapsed": false
   },
   "outputs": [],
   "source": [
    "import matplotlib.pyplot as plt\n",
    "import matplotlib.patches as patches\n",
    "import numpy as np\n",
    "fig = plt.figure()\n",
    "def setup_fig(fig):\n",
    "    axes = fig.add_subplot(111)\n",
    "    axes.set_xlim([0, 10])\n",
    "    axes.set_ylim([0, 10])\n",
    "    return axes\n",
    "\n",
    "def reset_fig(fig):\n",
    "    fig.clear()\n",
    "\n",
    "# class Point:\n",
    "#     def __init__(self, x, y):\n",
    "#         self.x = x\n",
    "#         self.y = y\n",
    "    \n",
    "class Rectangle:\n",
    "    def __init__(self, min_x, min_y, max_x, max_y):\n",
    "        #  self.lower_left = Point(min_x, min_y)\n",
    "        #  self.upper_right = Point(max_x, max_y)\n",
    "        self.min_x = min_x\n",
    "        self.max_x = max_x\n",
    "        self.min_y = min_y\n",
    "        self.max_y = max_y\n",
    "        self.width = max_x - min_x\n",
    "        self.height = max_y - min_y\n",
    "    \n",
    "    def contains(self, x, y):\n",
    "        return self.min_x < x < self.max_x and self.min_y < y < self.max_y\n",
    "    \n",
    "    def area(self):\n",
    "        return self.width * self.height"
   ]
  },
  {
   "cell_type": "markdown",
   "metadata": {},
   "source": [
    "**Problem Setup**\n",
    "\n",
    "Consider a distribution **D** that returns two dimensional points from coordinates within a length-10 square. For now, lets assume this distribution is uniform over the sample space. We draw **m** samples from this space."
   ]
  },
  {
   "cell_type": "code",
   "execution_count": 177,
   "metadata": {
    "collapsed": true
   },
   "outputs": [],
   "source": [
    "m = 50\n",
    "x, y = np.random.uniform(0, 10, m), np.random.uniform(0, 10, m)"
   ]
  },
  {
   "cell_type": "code",
   "execution_count": 178,
   "metadata": {
    "collapsed": false
   },
   "outputs": [
    {
     "data": {
      "image/png": "[encoded data removed]",
      "text/plain": [
       "<matplotlib.figure.Figure at 0x110bd9908>"
      ]
     },
     "execution_count": 178,
     "metadata": {},
     "output_type": "execute_result"
    }
   ],
   "source": [
    "reset_fig(fig)\n",
    "axes = setup_fig(fig)\n",
    "\n",
    "plt.scatter(x, y)\n",
    "fig"
   ]
  },
  {
   "cell_type": "markdown",
   "metadata": {},
   "source": [
    "Now let's assume that there is rectanle **R** that exists in this coordinate space. Further, all points generated by the distribution **D** are are classified as positive if they exist in the interior of the rectangle, and classified as negative otherwise."
   ]
  },
  {
   "cell_type": "code",
   "execution_count": 179,
   "metadata": {
    "collapsed": false
   },
   "outputs": [
    {
     "data": {
      "image/png": "[encoded data removed]",
      "text/plain": [
       "<matplotlib.figure.Figure at 0x110bd9908>"
      ]
     },
     "execution_count": 179,
     "metadata": {},
     "output_type": "execute_result"
    }
   ],
   "source": [
    "reset_fig(fig)\n",
    "axes = setup_fig(fig)\n",
    "\n",
    "# Determine Rectangle\n",
    "\n",
    "x_corner, y_corner = 1, 1\n",
    "width, height = 6, 4\n",
    "\n",
    "R = Rectangle(x_corner, y_corner, x_corner + width, y_corner + height)\n",
    "\n",
    "# Classify Points\n",
    "\n",
    "pos_x, pos_y = zip(*[(x, y) for x, y in zip(x, y) if R.contains(x, y)])\n",
    "neg_x, neg_y = zip(*[(x, y) for x, y in zip(x, y) if not R.contains(x, y)])\n",
    "\n",
    "# Plot\n",
    "\n",
    "def add_rect(axes, R, fill=False, alpha=None, no_border=False):\n",
    "    border = \"none\" if no_border else None\n",
    "    axes.add_patch(\n",
    "        patches.Rectangle(\n",
    "            (R.min_x, R.min_y),\n",
    "            R.width,\n",
    "            R.height,\n",
    "            fill=fill,      # remove background\n",
    "            alpha=alpha,\n",
    "            edgecolor=border,\n",
    "        )\n",
    "    )\n",
    "    return\n",
    "\n",
    "plt.scatter(pos_x, pos_y, marker='+')\n",
    "plt.scatter(neg_x, neg_y, marker='_')\n",
    "add_rect(axes, R)\n",
    "fig"
   ]
  },
  {
   "cell_type": "markdown",
   "metadata": {},
   "source": [
    "***Goal***\n",
    "\n",
    "Our goal is to produce a hypothesis for the rectangle **R**, and to understand the relationship between the sample size, the probability of misclassifying future points under the distribution **D**, and our confidence in our hypothesis."
   ]
  },
  {
   "cell_type": "markdown",
   "metadata": {},
   "source": [
    "**Proposed Solution**\n",
    "\n",
    "An algorithm for learning an approximation of the rectangle **R**:\n",
    "- Sample m points from distribution **D** (each point comes with a classification label).\n",
    "- Choose the rectangle **R'** that most \"tightly\" encloses all positive samples. \n",
    "    - We can choose this rectangle in time O(m)"
   ]
  },
  {
   "cell_type": "code",
   "execution_count": 180,
   "metadata": {
    "collapsed": false
   },
   "outputs": [
    {
     "data": {
      "image/png": "[encoded data removed]",
      "text/plain": [
       "<matplotlib.figure.Figure at 0x110bd9908>"
      ]
     },
     "execution_count": 180,
     "metadata": {},
     "output_type": "execute_result"
    }
   ],
   "source": [
    "R_prime = Rectangle(min(pos_x), min(pos_y), max(pos_x), max(pos_y))\n",
    "add_rect(axes, R_prime)\n",
    "fig"
   ]
  },
  {
   "cell_type": "markdown",
   "metadata": {
    "collapsed": true
   },
   "source": [
    "We will define the error of the hypothesis rectangle **R'** produced by this algorithm as follows:\n",
    "\n",
    "Pr_(x \\in D)[h(x) != c(x)]\n",
    "\n",
    "This only place where **R** and **R'** differ is the space inside **R** that is not covered by **R'**"
   ]
  },
  {
   "cell_type": "code",
   "execution_count": 131,
   "metadata": {
    "collapsed": false
   },
   "outputs": [
    {
     "data": {
      "image/png": "[encoded data removed]",
      "text/plain": [
       "<matplotlib.figure.Figure at 0x11129e128>"
      ]
     },
     "execution_count": 131,
     "metadata": {},
     "output_type": "execute_result"
    }
   ],
   "source": [
    "diff_fig = plt.figure()\n",
    "diff_axes = setup_fig(diff_fig)\n",
    "\n",
    "add_rect(diff_axes, R)\n",
    "add_rect(diff_axes, R_prime)\n",
    "\n",
    "# Build Rectangle Strips\n",
    "top_strip = Rectangle(R.min_x, R_prime.max_y, R.max_x, R.max_y)\n",
    "bottom_strip = Rectangle(R.min_x, R.min_y, R.max_x, R_prime.min_y)\n",
    "left_strip = Rectangle(R.min_x, R.min_y, R_prime.min_x, R.max_y)\n",
    "right_strip = Rectangle(R_prime.max_x, R.min_y, R.max_x, R.max_y)\n",
    "\n",
    "# Build left and right strips for actual plotting\n",
    "shaved_left_strip = Rectangle(R.min_x, R_prime.min_y, R_prime.min_x, R_prime.max_y)\n",
    "shaved_right_strip = Rectangle(R_prime.max_x, R_prime.min_y, R.max_x, R_prime.max_y)\n",
    "\n",
    "# Add strips to plot\n",
    "for strip in [top_strip, bottom_strip, shaved_left_strip, shaved_right_strip]:\n",
    "    add_rect(diff_axes, strip, fill=True, no_border=True, alpha=0.1)\n",
    "\n",
    "diff_fig"
   ]
  },
  {
   "cell_type": "markdown",
   "metadata": {},
   "source": [
    "It is important to note that the error is really the \"weight\" of this shaded area (**R** - **R'**) with respect to the probability distribution D. We know that this distribution is uniform over the 10x10 input space and can simply calculate the error rate of the given hypthesis with the ratio:\n",
    "\n",
    "|**R** - **R'**| / |**X**|\n",
    "\n",
    "Where **X** is the input space."
   ]
  },
  {
   "cell_type": "code",
   "execution_count": 174,
   "metadata": {
    "collapsed": false
   },
   "outputs": [
    {
     "name": "stdout",
     "output_type": "stream",
     "text": [
      "Analytic error based on ratio: 0.110%\n"
     ]
    }
   ],
   "source": [
    "ratio = (R.area() - R_prime.area()) / (100.0)\n",
    "print(\"Analytic error based on ratio: %.3f%s\" % (ratio, \"%\"))"
   ]
  },
  {
   "cell_type": "markdown",
   "metadata": {},
   "source": [
    "For any general distribution, we can calculate this error experimentally:"
   ]
  },
  {
   "cell_type": "code",
   "execution_count": 175,
   "metadata": {
    "collapsed": false
   },
   "outputs": [
    {
     "name": "stdout",
     "output_type": "stream",
     "text": [
      "Trial with 512 samples\n",
      "Experimental error based on trials: 0.131%\n"
     ]
    }
   ],
   "source": [
    "M = 512\n",
    "x_test, y_test = np.random.uniform(0, 10, M), np.random.uniform(0, 10, M)\n",
    "mislabeled_examples = [(x, y) for x, y in zip(x_test, y_test) if R.contains(x, y) and not R_prime.contains(x, y)]\n",
    "emperical_error = len(mislabeled_examples) / M\n",
    "print(\"Trial with %d samples\" % M)\n",
    "print(\"Experimental error based on trials: %.3f%s\" % (emperical_error, \"%\"))"
   ]
  },
  {
   "cell_type": "markdown",
   "metadata": {},
   "source": [
    "We would like to prove that, for a given number of samples **m**, the error under this distribution **D** will be less than some **\\epsilon** < 1/2."
   ]
  },
  {
   "cell_type": "markdown",
   "metadata": {},
   "source": [
    "NOTE TO SELF:\n",
    "It is important to remember that\n",
    "- Once a hypothesis is chosen, \\epsilon is fixed and has nothing to do with a particular sample (except that hypothesis was chosen based on examples). But technically, the error is a function of a hypothesis, independent of the sample. E.i. a function that computes the error would not take in the samples as input.\n",
    "- \\delta is the probability that the hypothesis, chosen by the algorithm based samples from the distribution, will be a good hypothesis, given the distribution. While this is based on the distribution D, it may also be interesting/helpful to think as \\delta as based on the distrbution of _samples_ of D. To calculate: take the set of possible samples and add up the probabilities of the samples which produce error less than \\epsilon."
   ]
  },
  {
   "cell_type": "code",
   "execution_count": null,
   "metadata": {
    "collapsed": true
   },
   "outputs": [],
   "source": []
  }
 ],
 "metadata": {
  "anaconda-cloud": {},
  "kernelspec": {
   "display_name": "Python [conda root]",
   "language": "python",
   "name": "conda-root-py"
  },
  "language_info": {
   "codemirror_mode": {
    "name": "ipython",
    "version": 3
   },
   "file_extension": ".py",
   "mimetype": "text/x-python",
   "name": "python",
   "nbconvert_exporter": "python",
   "pygments_lexer": "ipython3",
   "version": "3.5.2"
  }
 },
 "nbformat": 4,
 "nbformat_minor": 1
}
