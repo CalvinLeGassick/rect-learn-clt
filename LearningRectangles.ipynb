{
 "cells": [
  {
   "cell_type": "markdown",
   "metadata": {},
   "source": [
    "***Learning Rectangles***\n",
    "\n",
    "In this post, we explore a basic computational learning problem; learning rectangles from data. Exploring this problem and the proposed solution provides a first look into the tradeoffs between data, accuracy and confidence.\n",
    "\n",
    "This post also pairs a theorerical and exprimental exploration of the problem. By pairing theoretical work with visualizations and the instructions (code) for generating data and calculating experimental quantities, we hope to gain a deeper understanding of the tradeoffs in the rectangle learning problem and of the flavor of algorithmic proofs with probabilistic error gaurantees."
   ]
  },
  {
   "cell_type": "markdown",
   "metadata": {},
   "source": [
    "***Python Setup***\n",
    "\n",
    "We begin by importing some modules and defining some helper functions."
   ]
  },
  {
   "cell_type": "code",
   "execution_count": 122,
   "metadata": {
    "collapsed": false
   },
   "outputs": [],
   "source": [
    "import matplotlib.pyplot as plt\n",
    "import matplotlib.patches as patches\n",
    "import numpy as np\n",
    "fig = plt.figure()\n",
    "def setup_fig(fig):\n",
    "    axes = fig.add_subplot(111)\n",
    "    axes.set_xlim([0, 10])\n",
    "    axes.set_ylim([0,10])\n",
    "    return axes\n",
    "\n",
    "def reset_fig(fig):\n",
    "    fig.clear()"
   ]
  },
  {
   "cell_type": "markdown",
   "metadata": {},
   "source": [
    "**Problem Setup**\n",
    "\n",
    "Consider a distribution **D** that returns two dimensional points from coordinates within a length-10 square. For now, lets assume this distribution is uniform over the sample space. We draw **m** samples from this space."
   ]
  },
  {
   "cell_type": "code",
   "execution_count": 148,
   "metadata": {
    "collapsed": false
   },
   "outputs": [
    {
     "data": {
      "image/png": "[encoded data removed]",
      "text/plain": [
       "<matplotlib.figure.Figure at 0x1113ec3c8>"
      ]
     },
     "execution_count": 148,
     "metadata": {},
     "output_type": "execute_result"
    }
   ],
   "source": [
    "reset_fig(fig)\n",
    "axes = setup_fig(fig)\n",
    "\n",
    "m = 50\n",
    "x, y = np.random.uniform(0, 10, m), np.random.uniform(0, 10, m)\n",
    "plt.scatter(x, y)\n",
    "fig"
   ]
  },
  {
   "cell_type": "markdown",
   "metadata": {},
   "source": [
    "Now let's assume that there is rectanle **R** that exists in this coordinate space. Further, all points generated by the distribution **D** are are classified as positive if they exist in the interior of the rectangle, and classified as negative otherwise."
   ]
  },
  {
   "cell_type": "code",
   "execution_count": 149,
   "metadata": {
    "collapsed": false
   },
   "outputs": [
    {
     "data": {
      "image/png": "[encoded data removed]",
      "text/plain": [
       "<matplotlib.figure.Figure at 0x1113ec3c8>"
      ]
     },
     "execution_count": 149,
     "metadata": {},
     "output_type": "execute_result"
    }
   ],
   "source": [
    "reset_fig(fig)\n",
    "axes = setup_fig(fig)\n",
    "\n",
    "# Determine Rectangle\n",
    "\n",
    "x_corner, y_corner = 1, 1\n",
    "width, height = 6, 4\n",
    "\n",
    "# Classify Points\n",
    "\n",
    "def within_rectangle(x_corner, y_corner, width, height, x, y):\n",
    "    return x_corner < x < x_corner + width and y_corner < y < y_corner + height \n",
    "\n",
    "pos_x, pos_y = zip(*[(x, y) for x, y in zip(x, y) if within_rectangle(x_corner, y_corner, width, height, x, y)])\n",
    "neg_x, neg_y = zip(*[(x, y) for x, y in zip(x, y) if not within_rectangle(x_corner, y_corner, width, height, x, y)])\n",
    "\n",
    "# Plot\n",
    "\n",
    "def add_rect(axes, x, y, width, height):\n",
    "    axes.add_patch(\n",
    "        patches.Rectangle(\n",
    "            (x, y),\n",
    "            width,\n",
    "            height,\n",
    "            fill=False      # remove background\n",
    "        )\n",
    "    )\n",
    "    return\n",
    "\n",
    "plt.scatter(pos_x, pos_y, marker='+')\n",
    "plt.scatter(neg_x, neg_y, marker='_')\n",
    "add_rect(axes, x_corner, y_corner, width, height)\n",
    "fig"
   ]
  },
  {
   "cell_type": "markdown",
   "metadata": {},
   "source": [
    "***Goal***\n",
    "\n",
    "Our goal is to produce a hypothesis for the rectangle **R**, and to understand the relationship between the sample size, the probability of misclassifying future points under the distribution **D**, and our confidence in our hypothesis."
   ]
  },
  {
   "cell_type": "markdown",
   "metadata": {},
   "source": [
    "**Proposed Solution**\n",
    "\n",
    "[Fill in]\n",
    "\n",
    "NOTE TO SELF:\n",
    "It is important to remember that\n",
    "- Once a hypothesis is chosen, \\epsilon is fixed and has nothing to do with a particular sample (except that hypothesis was chosen based on examples). But technically, the error is a function of a hypothesis, independent of the sample. E.i. a function that computes the error would not take in the samples as input.\n",
    "- \\delta is the probability that the hypothesis, chosen by the algorithm based samples from the distribution, will be a good hypothesis, given the distribution. While this is based on the distribution D, it may also be interesting/helpful to think as \\delta as based on the distrbution of _samples_ of D. To calculate: take the set of possible samples and add up the probabilities of the samples which produce error less than \\epsilon."
   ]
  },
  {
   "cell_type": "code",
   "execution_count": 150,
   "metadata": {
    "collapsed": false
   },
   "outputs": [
    {
     "data": {
      "image/png": "[encoded data removed]",
      "text/plain": [
       "<matplotlib.figure.Figure at 0x1113ec3c8>"
      ]
     },
     "execution_count": 150,
     "metadata": {},
     "output_type": "execute_result"
    }
   ],
   "source": [
    "min_x, min_y = min(pos_x), min(pos_y)\n",
    "guess_width, guess_height = max(pos_x) - min_x, max(pos_y) - min_y\n",
    "\n",
    "add_rect(axes, min_x, min_y, guess_width, guess_height)\n",
    "fig"
   ]
  },
  {
   "cell_type": "markdown",
   "metadata": {
    "collapsed": true
   },
   "source": [
    "***TODO***\n",
    "- Sliders for adjusting sample size\n",
    "- Choose multiple distributions\n",
    "- Continue with classic proof for \"tightest-rectangle\" hypothesis\n",
    "    - Include visualizations for weight of error under distribution\n",
    "    - Include sliders for \\epsilon and radio buttons for Distribution to see how it effects visuals and experimental computations."
   ]
  },
  {
   "cell_type": "code",
   "execution_count": null,
   "metadata": {
    "collapsed": true
   },
   "outputs": [],
   "source": []
  }
 ],
 "metadata": {
  "anaconda-cloud": {},
  "kernelspec": {
   "display_name": "Python [conda root]",
   "language": "python",
   "name": "conda-root-py"
  },
  "language_info": {
   "codemirror_mode": {
    "name": "ipython",
    "version": 3
   },
   "file_extension": ".py",
   "mimetype": "text/x-python",
   "name": "python",
   "nbconvert_exporter": "python",
   "pygments_lexer": "ipython3",
   "version": "3.5.2"
  }
 },
 "nbformat": 4,
 "nbformat_minor": 1
}
